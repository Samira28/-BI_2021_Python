{
 "cells": [
  {
   "cell_type": "markdown",
   "metadata": {},
   "source": [
    "## HW - Regular Expressions"
   ]
  },
  {
   "cell_type": "code",
   "execution_count": 10,
   "metadata": {},
   "outputs": [],
   "source": [
    "import re"
   ]
  },
  {
   "cell_type": "markdown",
   "metadata": {},
   "source": [
    "### 1. Распарсите файл references и запишите оттуда все ftp ссылки в файл ftps "
   ]
  },
  {
   "cell_type": "code",
   "execution_count": 48,
   "metadata": {},
   "outputs": [],
   "source": [
    "with open(\"references\", \"r\") as file1:\n",
    "    with open(\"ftps_references\", \"w\") as file2:\n",
    "        pattern = r'\\bftp\\.[^\\s,;]+'\n",
    "        text = file1.read()\n",
    "        findings = re.findall(pattern,text)\n",
    "        result = '\\n'.join(findings)\n",
    "        file2.write(result)\n",
    "        \n",
    "\n"
   ]
  },
  {
   "cell_type": "markdown",
   "metadata": {},
   "source": [
    "### 2. Извлечь из рассказа 2430 A.D. все числа"
   ]
  },
  {
   "cell_type": "code",
   "execution_count": 41,
   "metadata": {},
   "outputs": [
    {
     "name": "stdout",
     "output_type": "stream",
     "text": [
      "2430\n",
      "1969\n",
      "2430\n",
      "2430\n",
      "57 57\n",
      "1970 3.68 35 460 2430\n"
     ]
    }
   ],
   "source": [
    "with open(\"2430AD.txt\", \"r\") as file1:\n",
    "    for line in file1:\n",
    "        pattern = re.compile(r'[-+]?\\d*\\.\\d+|\\d+')\n",
    "        findings = pattern.findall(line)\n",
    "        if len(findings) != 0:\n",
    "            print(*findings)\n"
   ]
  },
  {
   "cell_type": "code",
   "execution_count": null,
   "metadata": {},
   "outputs": [],
   "source": [
    "with open(\"2430AD.txt\", \"r\") as file1:\n",
    "    with open(\"numbers\", \"w\") as file2:\n",
    "        for line in file1:\n",
    "            pattern = re.compile(r'[-+]?\\d*\\.\\d+|\\d+')\n",
    "            findings = pattern.findall(line)\n",
    "            if len(findings) != 0:\n",
    "                result = '\\n'.join(findings)\n",
    "                file2.write(result)"
   ]
  },
  {
   "cell_type": "markdown",
   "metadata": {},
   "source": [
    "### 3. Из того же рассказа извлеките все слова, в которых есть буква a, регистр при этом не важен\n"
   ]
  },
  {
   "cell_type": "code",
   "execution_count": 20,
   "metadata": {},
   "outputs": [],
   "source": [
    "with open(\"2430AD.txt\", \"r\") as file1:\n",
    "    with open('Aa_words', \"w\") as file2:\n",
    "        if len(line) != 0:\n",
    "            for line in file1:\n",
    "                pattern = re.compile(r'\\b\\w*[Aa]+\\w*\\b')\n",
    "                findings = pattern.findall(line)\n",
    "                if len(findings)!= 0:\n",
    "                    result = '\\n'.join(findings) \n",
    "                    file2.write(result)\n",
    "                "
   ]
  },
  {
   "cell_type": "markdown",
   "metadata": {},
   "source": [
    "### 4. Извлеките из рассказа все восклицательные предложения\n",
    "\n"
   ]
  },
  {
   "cell_type": "code",
   "execution_count": 21,
   "metadata": {},
   "outputs": [],
   "source": [
    "with open(\"2430AD.txt\", \"r\") as file1:\n",
    "    with open('!sentences', \"w\") as file2:\n",
    "        if len(line) != 0:\n",
    "            for line in file1:\n",
    "                pattern = re.compile(r'[A-Z0-9][\\w ,;:]+!')\n",
    "                findings = pattern.findall(line)\n",
    "                if len(findings)!= 0:\n",
    "                    result = '\\n'.join(findings) \n",
    "                    file2.write(result)"
   ]
  },
  {
   "cell_type": "markdown",
   "metadata": {},
   "source": [
    "### 5. Постройте гистограмму распределения длин уникальных слов (без учёта регистра, длина от 1) в тексте. То есть по оси x идёт длина слова. По оси y идёт доля слов с такой длиной среди уникальных слов, найденных в тексте. При этом слова the и The считаются одним словом, то есть регистр не важен\n"
   ]
  },
  {
   "cell_type": "code",
   "execution_count": 22,
   "metadata": {},
   "outputs": [],
   "source": [
    "import matplotlib.pyplot as plt"
   ]
  },
  {
   "cell_type": "code",
   "execution_count": 51,
   "metadata": {},
   "outputs": [
    {
     "data": {
      "image/png": "[encoded data removed]",
      "text/plain": [
       "<Figure size 432x288 with 1 Axes>"
      ]
     },
     "metadata": {
      "needs_background": "light"
     },
     "output_type": "display_data"
    }
   ],
   "source": [
    "with open(\"2430AD.txt\", \"r\") as file1:\n",
    "    for line in file1:\n",
    "        pattern, text = re.compile(r'\\b[A-z\\']+\\b'), file1.read()\n",
    "        findings = re.findall(pattern, text)\n",
    "        uniq_words = sorted(map(len, set(map(str.lower, findings)))) #через set найдем только уникальные\n",
    "        plt.hist(list(uniq_words), density = True)\n",
    "        plt.title(' Histogram of unique words length')\n",
    "        plt.xlabel('Length of word')\n",
    "        plt.ylabel('Ratio')\n",
    "        plt.show()"
   ]
  }
 ],
 "metadata": {
  "kernelspec": {
   "display_name": "Python 3",
   "language": "python",
   "name": "python3"
  },
  "language_info": {
   "codemirror_mode": {
    "name": "ipython",
    "version": 3
   },
   "file_extension": ".py",
   "mimetype": "text/x-python",
   "name": "python",
   "nbconvert_exporter": "python",
   "pygments_lexer": "ipython3",
   "version": "3.8.3"
  }
 },
 "nbformat": 4,
 "nbformat_minor": 4
}
